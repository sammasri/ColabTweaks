{
 "cells": [
  {
   "cell_type": "markdown",
   "metadata": {},
   "source": [
    "## Ipywidgets Async Input with Asyncio"
   ]
  },
  {
   "cell_type": "code",
   "execution_count": null,
   "metadata": {},
   "outputs": [],
   "source": [
    "%gui asyncio\n",
    "import asyncio\n",
    "\n",
    "def handlefuturewidgetvalue(clickobj, func, future):\n",
    "    def func1(b):\n",
    "        val = func()\n",
    "        dump(val)\n",
    "        if not future.done():\n",
    "            future.set_result(val)\n",
    "    clickobj.on_click(func1)\n",
    "\n",
    "def getuserinput(futurevaluecontrols: list[FutureValueControl]):\n",
    "    future = asyncio.Future()\n",
    "    for i in range(len(futurevaluecontrols)):\n",
    "        handlefuturewidgetvalue(futurevaluecontrols[i].widget, futurevaluecontrols[i].futurevaluehandler, future)\n",
    "    return future\n",
    "\n",
    "async def getalreadydownloaddecision():\n",
    "    futurecontrols: list[FutureValueControl] = userconfirmview.futurecontrols\n",
    "    return await getuserinput(futurecontrols)\n",
    "\n",
    "async def getres():\n",
    "    return await getalreadydownloaddecision()\n",
    "\n",
    "async def processdownload():\n",
    "    res:AlreadyDownloadedDecision =  await getres()\n",
    "    if res:\n",
    "        print(f'res arrived action is {res.action}')\n",
    "        \n",
    "def click():\n",
    "    #processdownload()\n",
    "    asyncio.ensure_future(processdownload())\n",
    "\n",
    "userconfirmview = getdownloadconfirmview(\"The Covenant (2023) REPACK 1080p BluRay 5 1-LAMA\", \"The Covenant 2023\", 'season')\n",
    "tab = widgets.VBox((userconfirmview,), layout= {'width':'100%', 'height': MAINBOX_HEIGHT})\n",
    "click()\n",
    "tab"
   ]
  }
 ],
 "metadata": {
  "language_info": {
   "name": "python"
  },
  "orig_nbformat": 4
 },
 "nbformat": 4,
 "nbformat_minor": 2
}
